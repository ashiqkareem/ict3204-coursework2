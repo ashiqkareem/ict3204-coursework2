{
  "nbformat": 4,
  "nbformat_minor": 0,
  "metadata": {
    "colab": {
      "provenance": [],
      "mount_file_id": "1I0jFw-1iF8Rzv1HxEw9PppBc0cd4BCBH",
      "authorship_tag": "ABX9TyMH/jd605kjgjpaH54OtzV4",
      "include_colab_link": true
    },
    "kernelspec": {
      "name": "python3",
      "display_name": "Python 3"
    },
    "language_info": {
      "name": "python"
    }
  },
  "cells": [
    {
      "cell_type": "markdown",
      "metadata": {
        "id": "view-in-github",
        "colab_type": "text"
      },
      "source": [
        "<a href=\"https://colab.research.google.com/github/ashiqkareem/ict3204-coursework2/blob/main/ict3204_coursework2_cleaner_gp4.ipynb\" target=\"_parent\"><img src=\"https://colab.research.google.com/assets/colab-badge.svg\" alt=\"Open In Colab\"/></a>"
      ]
    },
    {
      "cell_type": "markdown",
      "source": [
        "# Gathering and cleaning Coursework 1 dataset"
      ],
      "metadata": {
        "id": "AOKP7QaBXWGc"
      }
    },
    {
      "cell_type": "code",
      "execution_count": null,
      "metadata": {
        "id": "BwnsmtH3Jx_D"
      },
      "outputs": [],
      "source": [
        "# Pointing variables to directories containing Coursework 1 dataset \n",
        "benign_path = '/content/drive/MyDrive/Colab Notebooks/ict3204-coursework2-benigncsvfiles/*.*'\n",
        "malicious_path = '/content/drive/MyDrive/Colab Notebooks/ict3204-coursework2-maliciouscsvfiles/*.*'\n",
        "\n",
        "# Importing libraries\n",
        "import csv\n",
        "import glob\n",
        "import pandas as pd\n",
        "import pickle\n",
        "\n",
        "# Creating lists to take note of datasets used\n",
        "benign_df = []\n",
        "benign_reject = []\n",
        "malicious_df = []\n",
        "malicious_reject = []\n",
        "\n",
        "# Assigning list containing features used\n",
        "feature_columns = ['destination.bytes', # keep\n",
        " 'destination.port', # keep\n",
        " 'event.duration', # keep\n",
        " 'network.bytes', # keep\n",
        " 'network.transport', # keep\n",
        " 'source.bytes', # keep\n",
        " 'source.port'# keep\n",
        "]\n",
        "\n",
        "# Initialising dataframes\n",
        "benigndf = pd.DataFrame()\n",
        "maliciousdf = pd.DataFrame()"
      ]
    },
    {
      "cell_type": "code",
      "source": [
        "# Function used to clean Coursework 1 dataset\n",
        "def cleandf(dataframe):\n",
        "  #Assigning df\n",
        "  df = dataframe\n",
        "  df = df.astype(str)\n",
        "\n",
        "  # converting transport to tcp = 1 and udp = 2 and icmp = 3\n",
        "  df['network.transport'] = df['network.transport'].replace(['tcp'], '1')\n",
        "  df['network.transport'] = df['network.transport'].replace(['udp'], '2')\n",
        "  df['network.transport'] = df['network.transport'].replace(['icmp'], '3')\n",
        "\n",
        "  # converting destination bytes\n",
        "  df['destination.bytes'] = df['destination.bytes'].str.replace('.', '')\n",
        "  df['destination.bytes'] = df['destination.bytes'].str.replace(',', '')\n",
        "  df['destination.bytes'] = df['destination.bytes'].str.replace('KB', '00')\n",
        "  df['destination.bytes'] = df['destination.bytes'].str.replace('MB', '000000')\n",
        "  df['destination.bytes'] = df['destination.bytes'].str.replace('B', '')\n",
        "\n",
        "  # converting destination bytes\n",
        "  df['network.bytes'] = df['network.bytes'].str.replace('.', '')\n",
        "  df['network.bytes'] = df['network.bytes'].str.replace(',', '')\n",
        "  df['network.bytes'] = df['network.bytes'].str.replace('KB', '00')\n",
        "  df['network.bytes'] = df['network.bytes'].str.replace('MB', '000000')\n",
        "  df['network.bytes'] = df['network.bytes'].str.replace('B', '')\n",
        "\n",
        "  # converting source bytes\n",
        "  df['source.bytes'] = df['source.bytes'].str.replace('.', '')\n",
        "  df['source.bytes'] = df['source.bytes'].str.replace(',', '')\n",
        "  df['source.bytes'] = df['source.bytes'].str.replace('KB', '00')\n",
        "  df['source.bytes'] = df['source.bytes'].str.replace('MB', '000000')\n",
        "  df['source.bytes'] = df['source.bytes'].str.replace('B', '')\n",
        "\n",
        "  # removing source | destination port\n",
        "  df['source.port'] = df['source.port'].str.replace(',', '')\n",
        "  df['destination.port'] = df['destination.port'].str.replace(',', '')\n",
        "  df['event.duration'] = df['event.duration'].str.replace(',', '')\n",
        "\n",
        "  # replacing - with 0\n",
        "  df = df.replace('-', 0)\n",
        "\n",
        "  # replacing NaN with 0\n",
        "  df = df.fillna(0)\n",
        "\n",
        "  return df"
      ],
      "metadata": {
        "id": "_JUO3zbANCZs"
      },
      "execution_count": null,
      "outputs": []
    },
    {
      "cell_type": "markdown",
      "source": [
        "# Gathering and cleaning non-T1595 logs"
      ],
      "metadata": {
        "id": "JbKci3x-amtc"
      }
    },
    {
      "cell_type": "code",
      "source": [
        "# Iterating through Coursework 1 Dataset\n",
        "for file in glob.glob(benign_path):\n",
        "  # Import file as dataframe\n",
        "  df = pd.read_csv(file, on_bad_lines='skip')\n",
        "\n",
        "  # Determining if dataframe can be used\n",
        "  if set(feature_columns).issubset(df.columns):\n",
        "    df = df[df['network.type'] == 'ipv4']\n",
        "    df = df.astype(str)\n",
        "    df.drop(df.columns.difference(feature_columns), 1, inplace=True)\n",
        "\n",
        "    # Cleaning dataframe using function created\n",
        "    df = cleandf(df)\n",
        "\n",
        "    # Adding T1595 column to classify data\n",
        "    df['t1595'] = 0\n",
        "\n",
        "    # converting all values to floats\n",
        "    df = df.astype(float)\n",
        "\n",
        "    # Adding dataframe to benigndf\n",
        "    benigndf = benigndf.append(df, ignore_index=True)\n",
        "\n",
        "    # Adding name of file to benign_df list\n",
        "    benign_df.append(file)\n",
        "\n",
        "  else:\n",
        "    # Adding name of file to benign_reject list\n",
        "    benign_reject.append(file)\n",
        "    pass"
      ],
      "metadata": {
        "colab": {
          "base_uri": "https://localhost:8080/"
        },
        "id": "O2axuA91NHSA",
        "outputId": "56323e2b-3575-4508-8895-1fe98dccbf54"
      },
      "execution_count": null,
      "outputs": [
        {
          "output_type": "stream",
          "name": "stderr",
          "text": [
            "/usr/local/lib/python3.7/dist-packages/ipykernel_launcher.py:10: FutureWarning: In a future version of pandas all arguments of DataFrame.drop except for the argument 'labels' will be keyword-only\n",
            "  # Remove the CWD from sys.path while we load stuff.\n",
            "/usr/local/lib/python3.7/dist-packages/ipykernel_launcher.py:13: FutureWarning: The default value of regex will change from True to False in a future version. In addition, single character regular expressions will *not* be treated as literal strings when regex=True.\n",
            "  del sys.path[0]\n",
            "/usr/local/lib/python3.7/dist-packages/ipykernel_launcher.py:20: FutureWarning: The default value of regex will change from True to False in a future version. In addition, single character regular expressions will *not* be treated as literal strings when regex=True.\n",
            "/usr/local/lib/python3.7/dist-packages/ipykernel_launcher.py:27: FutureWarning: The default value of regex will change from True to False in a future version. In addition, single character regular expressions will *not* be treated as literal strings when regex=True.\n",
            "/usr/local/lib/python3.7/dist-packages/IPython/core/interactiveshell.py:3326: DtypeWarning: Columns (11) have mixed types.Specify dtype option on import or set low_memory=False.\n",
            "  exec(code_obj, self.user_global_ns, self.user_ns)\n",
            "/usr/local/lib/python3.7/dist-packages/IPython/core/interactiveshell.py:3326: DtypeWarning: Columns (45,79,80,81,82,83,84,85,86,87,88,89,90,91,92,93,94,95) have mixed types.Specify dtype option on import or set low_memory=False.\n",
            "  exec(code_obj, self.user_global_ns, self.user_ns)\n",
            "/usr/local/lib/python3.7/dist-packages/IPython/core/interactiveshell.py:3326: DtypeWarning: Columns (37,60,61,62,63,64,65,66,67,68,69,70,71,72,73,74,75,76) have mixed types.Specify dtype option on import or set low_memory=False.\n",
            "  exec(code_obj, self.user_global_ns, self.user_ns)\n",
            "/usr/local/lib/python3.7/dist-packages/IPython/core/interactiveshell.py:3326: DtypeWarning: Columns (177,178,179,180,181,182,183,184,185,186,187,188,189,190,191,192,193,194,195,196,197,198,199,200,201,202,203,204,205,206,207,208,209,210,211,212,213,214,215,216,217,218,219,220,221,222,223,224,225,226,227,228,229,230,231,232,233,234,235,236,237,238,239,240,241,242,243,244,245,246,247,248,249,250,251,252,253,254,255,256,257,258,259,260,261,262,263,264,265,266,267,268,269,270,271,272,273,274,275,276,277,278,279,280,281,282,283,284,285,286,287,288,289,290,291,292,293,294,295,296,297,298,299,300,301,302,303,304,305,306,307,308,309,310,311,312,313,314,315,316,317,318,319,320,321,322,323,324,325,326,327,328,329,330,331,332,333,334,335,336,337,338,339,340,341,342,343,344,345,346,347,348,349,350,351,352,353,354,355,356,357,358,359,360,361,362,363,364,365,366,367,368,369,370,371,372,373,374,375,376,377,378,379,380,381,382,383,384,385,386,387,388,389,390,391,392,393,394,395,396,397,398,399,400,401,402,403,404,405,406,407,408,409,410,411,412,413,414,415,416,417,418,419,420,421,422,423,424,425,426,427,428,429,430,431,432,433,434,435,436,437,438,439,440,441,442,443,444,445,446,447,448,449,450,451,452,453,454,455,456,457,458,459,460,461,462,463,464,465,466,467,468,469,470,471,472,473,474,475,476,477,478,479,480,481,482,483,484,485,486,487,488,489,490,491,492,493,494,495,496,497,498,499,500,501,502,503,504,505,506) have mixed types.Specify dtype option on import or set low_memory=False.\n",
            "  exec(code_obj, self.user_global_ns, self.user_ns)\n"
          ]
        }
      ]
    },
    {
      "cell_type": "code",
      "source": [
        "benigndf.shape"
      ],
      "metadata": {
        "colab": {
          "base_uri": "https://localhost:8080/"
        },
        "id": "sM5onZ5yPdvz",
        "outputId": "af846174-8ed8-4cb7-af6a-bf5590a047f0"
      },
      "execution_count": null,
      "outputs": [
        {
          "output_type": "execute_result",
          "data": {
            "text/plain": [
              "(92024, 8)"
            ]
          },
          "metadata": {},
          "execution_count": 4
        }
      ]
    },
    {
      "cell_type": "code",
      "source": [
        "benigndf.to_pickle('ict3204-coursework2-benigndf.pkl')"
      ],
      "metadata": {
        "id": "3wlSqXiqQ_Ym"
      },
      "execution_count": null,
      "outputs": []
    },
    {
      "cell_type": "code",
      "source": [
        "benign_df"
      ],
      "metadata": {
        "colab": {
          "base_uri": "https://localhost:8080/"
        },
        "id": "QrvHmi7LOjF4",
        "outputId": "9b973c24-aa4f-431a-8700-8c24f239b781"
      },
      "execution_count": null,
      "outputs": [
        {
          "output_type": "execute_result",
          "data": {
            "text/plain": [
              "['/content/drive/MyDrive/Colab Notebooks/ict3204-coursework2-benigncsvfiles/T1102 _ Packetbeat _ raw _ Grp12_LeeZhiYangAloysius_MuhamadAfiqBusari.csv',\n",
              " '/content/drive/MyDrive/Colab Notebooks/ict3204-coursework2-benigncsvfiles/T1567 _ Packetbeat _ raw _ Grp12_TseKinPing.csv',\n",
              " '/content/drive/MyDrive/Colab Notebooks/ict3204-coursework2-benigncsvfiles/combined_packetbeat_raw_Gp08_all.csv',\n",
              " '/content/drive/MyDrive/Colab Notebooks/ict3204-coursework2-benigncsvfiles/packetbeat_raw_Gp5.csv',\n",
              " '/content/drive/MyDrive/Colab Notebooks/ict3204-coursework2-benigncsvfiles/T1573_packetbeat_clean_Gp20_HarishBalamurugan.csv',\n",
              " '/content/drive/MyDrive/Colab Notebooks/ict3204-coursework2-benigncsvfiles/T1071_packetbeat_http_clean_Gp20_Teo_Jun_Min.csv',\n",
              " '/content/drive/MyDrive/Colab Notebooks/ict3204-coursework2-benigncsvfiles/T1046_http_raw_Gp11_Low Wai Qun.csv',\n",
              " '/content/drive/MyDrive/Colab Notebooks/ict3204-coursework2-benigncsvfiles/T1046_flow_raw_Gp11_Low Wai Qun.csv',\n",
              " '/content/drive/MyDrive/Colab Notebooks/ict3204-coursework2-benigncsvfiles/T1190_flow_raw_Gp11_Tay Wei Jie.csv',\n",
              " '/content/drive/MyDrive/Colab Notebooks/ict3204-coursework2-benigncsvfiles/T1210_http_raw_Gp11_Lum Zheng Jie.csv',\n",
              " '/content/drive/MyDrive/Colab Notebooks/ict3204-coursework2-benigncsvfiles/T1210_flow_raw_Gp11_Lum Zheng Jie.csv',\n",
              " '/content/drive/MyDrive/Colab Notebooks/ict3204-coursework2-benigncsvfiles/T1190_http_raw_Gp11_Tay Wei Jie.csv',\n",
              " '/content/drive/MyDrive/Colab Notebooks/ict3204-coursework2-benigncsvfiles/T1548.001_flow_raw_Gp11_Ng Wei Liang.csv',\n",
              " '/content/drive/MyDrive/Colab Notebooks/ict3204-coursework2-benigncsvfiles/T1046_flow_clean_Gp11_Low Wai Qun.csv',\n",
              " '/content/drive/MyDrive/Colab Notebooks/ict3204-coursework2-benigncsvfiles/T1548.001_http_raw_Gp11_Ng Wei Liang.csv',\n",
              " '/content/drive/MyDrive/Colab Notebooks/ict3204-coursework2-benigncsvfiles/T1046_http_clean_Gp11_Low Wai Qun.csv',\n",
              " '/content/drive/MyDrive/Colab Notebooks/ict3204-coursework2-benigncsvfiles/T1190_http_clean_Gp11_Tay Wei Jie.csv',\n",
              " '/content/drive/MyDrive/Colab Notebooks/ict3204-coursework2-benigncsvfiles/T1190_flow_clean_Gp11_Tay Wei Jie.csv',\n",
              " '/content/drive/MyDrive/Colab Notebooks/ict3204-coursework2-benigncsvfiles/T1210_flow_clean_Gp11_Lum Zheng Jie.csv',\n",
              " '/content/drive/MyDrive/Colab Notebooks/ict3204-coursework2-benigncsvfiles/T1053_flow_clean_Gp11_Koh Cheng Kiat.csv',\n",
              " '/content/drive/MyDrive/Colab Notebooks/ict3204-coursework2-benigncsvfiles/T1210_http_clean_Gp11_Lum Zheng Jie.csv',\n",
              " '/content/drive/MyDrive/Colab Notebooks/ict3204-coursework2-benigncsvfiles/T1548.001_http_clean_Gp11_Ng Wei Liang.csv',\n",
              " '/content/drive/MyDrive/Colab Notebooks/ict3204-coursework2-benigncsvfiles/T1548.001_flow_clean_Gp11_Ng Wei Liang.csv']"
            ]
          },
          "metadata": {},
          "execution_count": 8
        }
      ]
    },
    {
      "cell_type": "markdown",
      "source": [
        "# Gathering and Cleaning T1595 logs"
      ],
      "metadata": {
        "id": "dely_k-kXgb_"
      }
    },
    {
      "cell_type": "code",
      "source": [
        "# Iterating through Coursework 1 Dataset\n",
        "for file in glob.glob(malicious_path):\n",
        "  # Import file as dataframe\n",
        "  df = pd.read_csv(file)\n",
        "\n",
        "  # Determining if dataframe can be used\n",
        "  if set(feature_columns).issubset(df.columns):\n",
        "    df = df[df['network.type'] == 'ipv4']\n",
        "    df = df.astype(str)\n",
        "    df.drop(df.columns.difference(feature_columns), 1, inplace=True)\n",
        "\n",
        "    # Cleaning dataframe using function created\n",
        "    df = cleandf(df)\n",
        "\n",
        "    # Adding T1595 column to classify data\n",
        "    df['t1595'] = 1\n",
        "\n",
        "    # converting all values to floats\n",
        "    df = df.astype(float)\n",
        "\n",
        "    # Adding dataframe to maliciousdf\n",
        "    maliciousdf = maliciousdf.append(df, ignore_index=True)\n",
        "\n",
        "    # Adding name to dfList\n",
        "    malicious_df.append(file)\n",
        "\n",
        "  else:\n",
        "    malicious_reject.append(file)\n",
        "    pass"
      ],
      "metadata": {
        "colab": {
          "base_uri": "https://localhost:8080/"
        },
        "id": "LDzuW3UHXjWm",
        "outputId": "c5a7d03d-d6f5-4e3e-b5eb-d382abdefecc"
      },
      "execution_count": null,
      "outputs": [
        {
          "output_type": "stream",
          "name": "stderr",
          "text": [
            "/usr/local/lib/python3.7/dist-packages/ipykernel_launcher.py:10: FutureWarning: In a future version of pandas all arguments of DataFrame.drop except for the argument 'labels' will be keyword-only\n",
            "  # Remove the CWD from sys.path while we load stuff.\n",
            "/usr/local/lib/python3.7/dist-packages/ipykernel_launcher.py:13: FutureWarning: The default value of regex will change from True to False in a future version. In addition, single character regular expressions will *not* be treated as literal strings when regex=True.\n",
            "  del sys.path[0]\n",
            "/usr/local/lib/python3.7/dist-packages/ipykernel_launcher.py:20: FutureWarning: The default value of regex will change from True to False in a future version. In addition, single character regular expressions will *not* be treated as literal strings when regex=True.\n",
            "/usr/local/lib/python3.7/dist-packages/ipykernel_launcher.py:27: FutureWarning: The default value of regex will change from True to False in a future version. In addition, single character regular expressions will *not* be treated as literal strings when regex=True.\n"
          ]
        }
      ]
    },
    {
      "cell_type": "code",
      "source": [
        "maliciousdf.shape"
      ],
      "metadata": {
        "colab": {
          "base_uri": "https://localhost:8080/"
        },
        "id": "O59cYhz1Yp8c",
        "outputId": "0862da5f-743c-4ca5-cc44-b529b17654de"
      },
      "execution_count": null,
      "outputs": [
        {
          "output_type": "execute_result",
          "data": {
            "text/plain": [
              "(1471, 8)"
            ]
          },
          "metadata": {},
          "execution_count": 54
        }
      ]
    },
    {
      "cell_type": "code",
      "source": [
        "malicious_df"
      ],
      "metadata": {
        "colab": {
          "base_uri": "https://localhost:8080/"
        },
        "id": "Zoput6bV_PJN",
        "outputId": "2f2b845d-069b-4a5a-e9b1-3cc857941ac9"
      },
      "execution_count": null,
      "outputs": [
        {
          "output_type": "execute_result",
          "data": {
            "text/plain": [
              "['/content/drive/MyDrive/Colab Notebooks/ict3204-coursework2-maliciouscsvfiles/T1595 _ Packetbeat _ raw _ Grp12_MuhamadAfiq_YuXiang.csv',\n",
              " '/content/drive/MyDrive/Colab Notebooks/ict3204-coursework2-maliciouscsvfiles/T1595_PacketbeatTraffic_raw_Gp14_EugeneChew.csv']"
            ]
          },
          "metadata": {},
          "execution_count": 4
        }
      ]
    },
    {
      "cell_type": "code",
      "source": [
        "benigndf.to_pickle('ict3204-coursework2-maliciousdf.pkl')"
      ],
      "metadata": {
        "id": "rZileCWCZkiT"
      },
      "execution_count": null,
      "outputs": []
    },
    {
      "cell_type": "markdown",
      "source": [
        "# Combining both T1595 and non-T1595 dataframes to create dataset"
      ],
      "metadata": {
        "id": "SlPwZANjcqp_"
      }
    },
    {
      "cell_type": "code",
      "source": [
        "df = benigndf.append(maliciousdf, ignore_index=True)"
      ],
      "metadata": {
        "id": "fbgqFvCGcyPz"
      },
      "execution_count": null,
      "outputs": []
    },
    {
      "cell_type": "code",
      "source": [
        "df.to_pickle('ict3204-coursework2-df.pkl')"
      ],
      "metadata": {
        "id": "BBZZXCBrdGGA"
      },
      "execution_count": null,
      "outputs": []
    }
  ]
}